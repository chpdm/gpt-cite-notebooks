{
 "cells": [
  {
   "cell_type": "code",
   "execution_count": 232,
   "id": "65bb70cf-8db2-4737-99e3-4a11ac6fa413",
   "metadata": {},
   "outputs": [],
   "source": [
    "import openai as ai\n",
    "import PyPDF2\n",
    "import io\n",
    "import json"
   ]
  },
  {
   "cell_type": "code",
   "execution_count": 233,
   "id": "b9b151fa-9aed-47a2-bf72-b2689a696310",
   "metadata": {},
   "outputs": [],
   "source": [
    "# Set the API key for OpenAI\n",
    "ai.api_key = \"<YOUR API KEY>\""
   ]
  },
  {
   "cell_type": "code",
   "execution_count": 234,
   "id": "38953d73-9c66-4ea3-b5bc-b27487963a62",
   "metadata": {},
   "outputs": [],
   "source": [
    "functions = [\n",
    "    {\n",
    "        \"name\": \"generate_software_schema\",\n",
    "        \"description\": \"Get the software mentions\",\n",
    "        \"parameters\": {\n",
    "            \"type\": \"object\", \n",
    "            \"properties\": {\n",
    "                \"software_list\": {\n",
    "                    \"type\": \"array\",\n",
    "                    \"items\": {\n",
    "                        \"type\": \"object\",\n",
    "                        \"properties\": {\n",
    "                            \"software_name\": {\n",
    "                                \"type\": \"string\",\n",
    "                                \"description\": \"The name of the software package\"\n",
    "                            },\n",
    "                            \"citation_string\": {\n",
    "                                \"type\": \"string\",\n",
    "                                \"description\": \"The existing citation\"\n",
    "                            }\n",
    "                        },\n",
    "                        \"required\": [\"software_name\"]\n",
    "                    }\n",
    "                }\n",
    "            },\n",
    "            \"required\": [\"software_list\"]\n",
    "        }\n",
    "    }\n",
    "]\n"
   ]
  },
  {
   "cell_type": "code",
   "execution_count": 235,
   "id": "a69423d9-3fdb-4b79-b95a-621d6197f0eb",
   "metadata": {},
   "outputs": [],
   "source": [
    "role_prompt = \"\"\"\n",
    "You are a citation support assistant.\n",
    "Your job is to identify the names of software in a body of input text together with their citations.\n",
    "A citation contains metadata like the author and date.\n",
    "Citations are enclosed in '()' or '[]' and directly follow the name of the software.\n",
    "Proper nouns such as organizations, businesses, companies, universities, or publishers are not software and should be ignored.\n",
    "Only identify software if you are sure. Otherwise ignore.\n",
    "\n",
    "Here are some examples of software mentions with citations:\n",
    "\n",
    "Example: In case of a range of K values, the true K was determined as a value between the estimates predicted by fastSTRUCTURE (Green and Zuntz, 2009) and based on what made most biological sense\n",
    "Software: fastSTRUCTURE\n",
    "Citation: Green and Zuntz, 2009\n",
    "\n",
    "Example: This design was based on the Mixture Design (D-optimal, two mixture components, two factors, the limits: 5%–95%) option in the Design Expert 7.1.3 Software (Acme Corp., 2023) that generated the experimental scheme (13 standard/run) randomly\n",
    "Software: Design Expert\n",
    "Citation: Acme Corp., 2023\n",
    "\n",
    "Example: Data from this study were processed with GraphPad Prism 8 (GraphPad Software, USA) and expressed as mean ± standard deviation (x ± s) \n",
    "Software: GraphPad Prism\n",
    "Citation: GraphPad Software, USA\n",
    "\n",
    "Example: The genes exhibiting high expression (≥100 normalized RPKM values) were mapped on functional bins assigned to different pathways in MapMan (Smith et. al., 2009)\n",
    "Software: MapMan\n",
    "Citation: Smith et. al., 2009\n",
    "\n",
    "Now, it’s time to use what you have learned.\n",
    "\n",
    "For each of the software references you can find in text between <begin_text> and <end_text>, add it to a JSON list that contains the name of the software, and the citation string if it exists.\n",
    "\n",
    "\"\"\""
   ]
  },
  {
   "cell_type": "code",
   "execution_count": 236,
   "id": "e1db0268-a0bc-4f77-9528-903035037541",
   "metadata": {},
   "outputs": [],
   "source": [
    "def generate_prompt(role_prompt, input_text):\n",
    "    \n",
    "    return f'''\n",
    "\n",
    "    {role_prompt}\n",
    "\n",
    "    <begin_text>{input_text}<end_text>\n",
    "'''"
   ]
  },
  {
   "cell_type": "code",
   "execution_count": 237,
   "id": "fba29265-5b6b-42dd-ac6b-69b9368484b5",
   "metadata": {},
   "outputs": [],
   "source": [
    "paper_body_1 = \"\"\"Due to its importance, many open-source packages contain time-dependent quantum system simulation tools. \n",
    "In Python, these include QuTiP (Green et. al., 2009), C3. C++ packages (also with Python interfaces)\n",
    "include lindbladmpo and Quandary. Packages also exist in other languages, such as the Hamiltonian open quantum system \n",
    "toolkit (HOQST) and a Framework for Quantum Optimal Control in Julia, and Spinach in MATLAB. The features in Qiskit \n",
    "Dynamics for simulating Qiskit Pulse control sequences replace those previously offered in Qiskit Aer.\"\"\"\n",
    "\n",
    "paper_body_2 = \"\"\"Given the potentially vast number of biology preprints — several hundred thousand papers each year — \n",
    "it was clear that bioRxiv (Green et. al., 2009) would require an industrial scale architecture that could process and display a high volume of \n",
    "submissions and stably accommodate millions of online readers with minimal downtimes. bioRxiv’s hosting and manuscript \n",
    "management sites would have to include state-of-the-art features biologists had come to expect of online journals and \n",
    "be able to accommodate both existing and future integrations with other participants in the scholarly communication \n",
    "ecosystem (e.g. search engines, indexing services, journals, and manuscript submission systems). After defining the \n",
    "specifications required, we partnered with HighWire Press, a company developed within and part-owned by Stanford University \n",
    "that had a proven record of more than 20 years in online manuscript hosting and technology development for clients including the American Academy for the Advancement of Science (AAAS) and The National Academy of Sciences (NAS).\"\"\"\n",
    "\n",
    "paper_body_3 = \"\"\"The 3D structure of GBF1 protein is not available; therefore, a structural model of the Sec7 domain of GBF1 (GBF1_Sec7) \n",
    "protein was generated using comparative modeling methods (Sali and Blundell, 1993). Homology model of the GBF1_Sec7 \n",
    "in its autoinhibited form was generated using the crystal structure of the autoinhibited form of Grp1 Arf GTPase exchange \n",
    "factor (PDB: 2R0D, resolution 2.0 Å), which shares ~65% homology with GBF1 in the Sec7 domain. A 3D structural model of the \n",
    "GBF1_Sec7-Arf1 complex was generated using the crystal structure of Arno_Sec7-Arf1 (PDB: 1R8Q, resolution 1.9 Å) since Arno \n",
    "shares ~65% homology with GBF1 in the Sec7 domain. MD simulations were carried out with the pemed.CUDA module of the \n",
    "program Amber18 (Case et al., 2018) using standard and well-tested protocols (Kannan et al., 2015). All atom versions of the Amber \n",
    "14SB force field (ff14SB) (Maier et al., 2015) were used to represent the protein. Force field parameters for phosphorylated tyrosine \n",
    "and GTP were taken as described elsewhere (Homeyer et al., 2006); an overall charge of –2e is assigned to the phosphate groups. \n",
    "The Xleap module was used to prepare the system for the MD simulations. All the simulation systems were neutralized with appropriate \n",
    "numbers of counterions. Each neutralized system was solvated in an octahedral box with TIP3P (Jorgensen et al., 1983) water molecules, \n",
    "leaving at least 10 Å between the solute atoms and the borders of the box. All MD simulations were carried out in explicit solvent \n",
    "at 300 K. During the simulations, the long-range electrostatic interactions were treated with the particle mesh Ewald (Darden et al., 1993) \n",
    "method using a real space cutoff distance of 9 Å. The SETTLE (Miyamoto and Kollman, 1992) algorithm was used to constrain bond \n",
    "vibrations involving hydrogen atoms, which allowed a time step of 2 fs during the simulations. Solvent molecules and counterions were \n",
    "initially relaxed using energy minimization with restraints on the protein and inhibitor atoms. This was followed by unrestrained \n",
    "energy minimization to remove any steric clashes.\"\"\"\n"
   ]
  },
  {
   "cell_type": "code",
   "execution_count": 238,
   "id": "dbab645e-748c-40e1-9d1a-57b30acf00f2",
   "metadata": {},
   "outputs": [],
   "source": [
    "# Generating response back from gpt-3.5-turbo\n",
    "openai_response = ai.ChatCompletion.create(\n",
    "        model = 'ft:gpt-3.5-turbo-0613:personal::8E3PTrF7',\n",
    "        messages = [{'role': 'user', 'content': generate_prompt(role_prompt, paper_body_3)}],\n",
    "        functions = functions,\n",
    "        function_call = 'auto'\n",
    "    )\n"
   ]
  },
  {
   "cell_type": "code",
   "execution_count": 239,
   "id": "ec0282b3-270b-45d1-97f0-b0608c6bb84f",
   "metadata": {},
   "outputs": [
    {
     "name": "stdout",
     "output_type": "stream",
     "text": [
      "{\n",
      "  \"software_list\": [\n",
      "    {\n",
      "      \"software_name\": \"Amber18\",\n",
      "      \"citation_string\": \"Case et al., 2018\"\n",
      "    },\n",
      "    {\n",
      "      \"software_name\": \"Xleap\",\n",
      "      \"citation_string\": \"\"\n",
      "    }\n",
      "  ]\n",
      "}\n"
     ]
    }
   ],
   "source": [
    "# Read the response from OpenAI.\n",
    "\n",
    "finish_reason = openai_response.choices[0]['finish_reason']\n",
    "\n",
    "if finish_reason == \"function_call\":\n",
    "    decoded_response = json.loads(openai_response.choices[0].message.function_call.arguments.strip())\n",
    "    json_formatted_str = json.dumps(decoded_response, indent=2)\n",
    "    print(json_formatted_str)\n",
    "elif finish_reason == \"stop\":\n",
    "    print('No software')\n"
   ]
  },
  {
   "cell_type": "code",
   "execution_count": null,
   "id": "e5f24015-f8e5-4ffd-978d-a2bebd48c033",
   "metadata": {},
   "outputs": [],
   "source": []
  }
 ],
 "metadata": {
  "kernelspec": {
   "display_name": "Python 3 (ipykernel)",
   "language": "python",
   "name": "python3"
  },
  "language_info": {
   "codemirror_mode": {
    "name": "ipython",
    "version": 3
   },
   "file_extension": ".py",
   "mimetype": "text/x-python",
   "name": "python",
   "nbconvert_exporter": "python",
   "pygments_lexer": "ipython3",
   "version": "3.9.6"
  }
 },
 "nbformat": 4,
 "nbformat_minor": 5
}
